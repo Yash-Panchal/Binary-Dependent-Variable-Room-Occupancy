{
 "cells": [
  {
   "cell_type": "code",
   "execution_count": 2,
   "metadata": {},
   "outputs": [],
   "source": [
    "import pandas as pd"
   ]
  },
  {
   "cell_type": "code",
   "execution_count": 6,
   "metadata": {},
   "outputs": [],
   "source": [
    "read_file = pd.read_csv(r'E:\\\\IIT Kanpur\\\\IME 2nd Sem Courses\\MBA652-SMBA\\\\Projects\\\\Binary Dependent Variable\\\\Occupancy of Room\\\\datatraining.txt')"
   ]
  },
  {
   "cell_type": "code",
   "execution_count": 7,
   "metadata": {},
   "outputs": [],
   "source": [
    "read_file.to_csv(r'E:\\\\IIT Kanpur\\\\IME 2nd Sem Courses\\MBA652-SMBA\\\\Projects\\\\Binary Dependent Variable\\\\Occupancy of Room\\\\occupancy_data\\\\datatest_3.csv', index=None)"
   ]
  },
  {
   "cell_type": "code",
   "execution_count": 3,
   "metadata": {},
   "outputs": [],
   "source": [
    "read_file = pd.read_csv(r'C:\\\\Users\\\\Lenovo\\\\Desktop\\\\Placement_Projects\\\\Time-Series\\\\Reference\\\\aaba.us.txt')"
   ]
  },
  {
   "cell_type": "code",
   "execution_count": 4,
   "metadata": {},
   "outputs": [],
   "source": [
    "read_file.to_csv(r'C:\\\\Users\\\\Lenovo\\\\Desktop\\\\Placement_Projects\\\\Time-Series\\\\Reference\\\\Altaba_Inc.csv', index=None)"
   ]
  },
  {
   "cell_type": "code",
   "execution_count": null,
   "metadata": {},
   "outputs": [],
   "source": []
  }
 ],
 "metadata": {
  "kernelspec": {
   "display_name": "Python 3",
   "language": "python",
   "name": "python3"
  },
  "language_info": {
   "codemirror_mode": {
    "name": "ipython",
    "version": 3
   },
   "file_extension": ".py",
   "mimetype": "text/x-python",
   "name": "python",
   "nbconvert_exporter": "python",
   "pygments_lexer": "ipython3",
   "version": "3.7.6"
  }
 },
 "nbformat": 4,
 "nbformat_minor": 4
}
